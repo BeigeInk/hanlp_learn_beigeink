{
 "cells": [
  {
   "cell_type": "code",
   "execution_count": 1,
   "metadata": {},
   "outputs": [],
   "source": [
    "from gensim.corpora import WikiCorpus\n",
    "from pyhanlp import *\n",
    "import zipfile,os,sys,re\n",
    "from pyhanlp.static import download, remove_file, HANLP_DATA_PATH"
   ]
  },
  {
   "cell_type": "code",
   "execution_count": 2,
   "metadata": {},
   "outputs": [],
   "source": [
    "wikipath=r'D:\\NLP\\zhwiki-20211101-pages-articles-multistream.xml.bz2'"
   ]
  },
  {
   "cell_type": "code",
   "execution_count": 3,
   "metadata": {},
   "outputs": [],
   "source": [
    "wiki = WikiCorpus(wikipath, dictionary={})"
   ]
  },
  {
   "cell_type": "code",
   "execution_count": 4,
   "metadata": {},
   "outputs": [
    {
     "name": "stderr",
     "output_type": "stream",
     "text": [
      "E:\\Anaconda\\envs\\py36\\lib\\site-packages\\gensim\\utils.py:1332: UserWarning: detected Windows; aliasing chunkize to chunkize_serial\n",
      "  warnings.warn(\"detected %s; aliasing chunkize to chunkize_serial\" % entity)\n"
     ]
    }
   ],
   "source": [
    "i=0\n",
    "p = re.compile(r'[\\u4e00-\\u9fa5]')\n",
    "with open('whole.txt','w',encoding='utf-8') as output:\n",
    "    for text in wiki.get_texts():\n",
    "        str_temp=''\n",
    "        for ti in text:\n",
    "            #temp_i=re.sub(\"[A-Za-z0-9\\!\\%\\[\\]\\,\\。\\s+]\", \"\", i)\n",
    "            temp_i=''.join(re.findall(p,ti))\n",
    "            if temp_i:\n",
    "                str_temp+=temp_i+'\\n'\n",
    "        str_temp=HanLP.tw2s(str_temp)\n",
    "        #print(str_temp)\n",
    "        output.write(str_temp)\n",
    "        i+=1\n",
    "        if i==10:\n",
    "            break"
   ]
  },
  {
   "cell_type": "code",
   "execution_count": 5,
   "metadata": {
    "pycharm": {
     "name": "#%%\n"
    }
   },
   "outputs": [],
   "source": [
    "## 指定 PKU 语料库\n",
    "PKU98=r'E:\\Anaconda\\envs\\py36\\lib\\site-packages\\pyhanlp\\static\\data\\test\\pku98'\n",
    "PKU199801 = os.path.join(PKU98, '199801.txt')\n",
    "PKU199801_TRAIN = os.path.join(PKU98, '199801-train.txt')\n",
    "PKU199801_TEST = os.path.join(PKU98, '199801-test.txt')\n",
    "POS_MODEL = os.path.join(PKU98, 'pos.bin')\n",
    "NER_MODEL = os.path.join(PKU98, 'ner.bin')"
   ]
  },
  {
   "cell_type": "code",
   "execution_count": 6,
   "metadata": {
    "pycharm": {
     "name": "#%%\n"
    }
   },
   "outputs": [],
   "source": [
    "## 以下开始 CRF 命名实体识别\n",
    "\n",
    "CRFNERecognizer = JClass('com.hankcs.hanlp.model.crf.CRFNERecognizer')\n",
    "HMMNERecognizer = JClass('com.hankcs.hanlp.model.hmm.HMMNERecognizer')\n",
    "NERTrainer = JClass('com.hankcs.hanlp.model.perceptron.NERTrainer')\n",
    "PerceptronNERecognizer = JClass('com.hankcs.hanlp.model.perceptron.PerceptronNERecognizer')\n",
    "\n",
    "\n",
    "AbstractLexicalAnalyzer = JClass('com.hankcs.hanlp.tokenizer.lexical.AbstractLexicalAnalyzer')\n",
    "Utility = JClass('com.hankcs.hanlp.model.perceptron.utility.Utility')\n",
    "PerceptronSegmenter = JClass('com.hankcs.hanlp.model.perceptron.PerceptronSegmenter')\n",
    "PerceptronPOSTagger = JClass('com.hankcs.hanlp.model.perceptron.PerceptronPOSTagger')\n"
   ]
  },
  {
   "cell_type": "code",
   "execution_count": 7,
   "metadata": {
    "pycharm": {
     "name": "#%%\n"
    }
   },
   "outputs": [],
   "source": [
    "def train_and_test(model):\n",
    "    anylizer=AbstractLexicalAnalyzer(PerceptronSegmenter(),PerceptronPOSTagger(),model)\n",
    "    with open('whole.txt','r',encoding='utf-8') as f:\n",
    "        whole_any=f.read()\n",
    "        result=anylizer.analyze(whole_any)\n",
    "        print('\\n'.join(str(result).split('\\n')[:20]))\n",
    "        scores = Utility.evaluateNER(model, PKU199801_TEST)\n",
    "        Utility.printNERScore(scores)\n",
    "    return anylizer"
   ]
  },
  {
   "cell_type": "code",
   "execution_count": 8,
   "metadata": {
    "pycharm": {
     "name": "#%%\n"
    }
   },
   "outputs": [],
   "source": [
    "def re_train(sent,anylyzer):\n",
    "    while not anylyzer.analyze(sent.text()).equals(sentence):\n",
    "        anylyzer.learn(sent)"
   ]
  },
  {
   "cell_type": "code",
   "execution_count": 9,
   "metadata": {
    "pycharm": {
     "name": "#%%\n"
    }
   },
   "outputs": [
    {
     "name": "stdout",
     "output_type": "stream",
     "text": [
      "CRF\n",
      "欧几里得\n",
      "西元前三世纪/nr 的/u 古希腊/ns 数学家\n",
      "现在/t 被/p 认为/v 是/v 几何/n 之父\n",
      "此画/n 为/p 拉斐尔/nrf 的/u 作品\n",
      "雅典学院\n",
      "数学\n",
      "是研究/vn 数量\n",
      "结构\n",
      "变化/vn 以及/c 空间/n 等/u 概念/n 的/u 一/m 门/q 学科\n",
      "从某种/n 角度看/v 属于/v 形式/n 科学/n 的/u 一种\n",
      "数学/n 利用/v 抽象化/nz 和/c 逻辑推理\n",
      "从计数\n",
      "计算\n",
      "量度\n",
      "对物体/n 形状/n 及/c 运动/vn 的/u 观察/vn 发展/vn 而成\n",
      "数学家/n 们/k 拓展/v 这些/r 概念\n",
      "以公式化/v 新/a 的/u 猜想\n",
      "以及/vn 从/p 选定/v 的/u 公理/n 及/c 定义/n 出发\n",
      "严谨/a 地/u 推导/v 出/v 一些/m 定理\n",
      "对数学/n 基本概念/nz 的/u 完善\n"
     ]
    }
   ],
   "source": [
    "CRF=CRFNERecognizer()\n",
    "print('CRF')\n",
    "crf_any=train_and_test(CRF)"
   ]
  },
  {
   "cell_type": "code",
   "execution_count": 10,
   "metadata": {
    "pycharm": {
     "name": "#%%\n"
    }
   },
   "outputs": [
    {
     "name": "stdout",
     "output_type": "stream",
     "text": [
      "HMM\n",
      "欧几里得\n",
      "西元前三世纪/nr 的/u 古希腊/ns 数学家\n",
      "现在/t 被/p 认为/v 是/v 几何/n 之父\n",
      "此画/n 为/p 拉斐尔/nrf 的/u 作品\n",
      "雅典学院\n",
      "数学\n",
      "是研究/vn 数量\n",
      "结构\n",
      "变化/vn 以及/c 空间/n 等/u 概念/n 的/u 一/m 门/q 学科\n",
      "从某种/n 角度看/v 属于/v 形式/n 科学/n 的/u 一种\n",
      "数学/n 利用/v 抽象化/nz 和/c 逻辑推理\n",
      "从计数\n",
      "计算\n",
      "量度\n",
      "对物体/n 形状/n 及/c 运动/vn 的/u 观察/vn 发展/vn 而成\n",
      "数学家/n 们/k 拓展/v 这些/r 概念\n",
      "以公式化/v 新/a 的/u 猜想\n",
      "以及/vn 从/p 选定/v 的/u 公理/n 及/c 定义/n 出发\n",
      "严谨/a 地/u 推导/v 出/v 一些/m 定理\n",
      "对数学/n 基本概念/nz 的/u 完善\n"
     ]
    }
   ],
   "source": [
    "HMM=HMMNERecognizer()\n",
    "HMM.train(PKU199801_TRAIN)\n",
    "print('HMM')\n",
    "hmm_any=train_and_test(HMM)"
   ]
  },
  {
   "cell_type": "code",
   "execution_count": 11,
   "metadata": {
    "pycharm": {
     "name": "#%%\n"
    }
   },
   "outputs": [],
   "source": [
    "NER_temp=NERTrainer()"
   ]
  },
  {
   "cell_type": "code",
   "execution_count": 12,
   "metadata": {
    "pycharm": {
     "name": "#%%\n"
    }
   },
   "outputs": [
    {
     "name": "stdout",
     "output_type": "stream",
     "text": [
      "NER\n",
      "欧几里得\n",
      "西元前三世纪/nr 的/u 古希腊/ns 数学家\n",
      "现在/t 被/p 认为/v 是/v 几何/n 之父\n",
      "此画/n 为/p 拉斐尔/nrf 的/u 作品\n",
      "雅典学院\n",
      "数学\n",
      "是研究/vn 数量\n",
      "结构\n",
      "变化/vn 以及/c 空间/n 等/u 概念/n 的/u 一/m 门/q 学科\n",
      "从某种/n 角度看/v 属于/v 形式/n 科学/n 的/u 一种\n",
      "数学/n 利用/v 抽象化/nz 和/c 逻辑推理\n",
      "从计数\n",
      "计算\n",
      "量度\n",
      "对物体/n 形状/n 及/c 运动/vn 的/u 观察/vn 发展/vn 而成\n",
      "数学家/n 们/k 拓展/v 这些/r 概念\n",
      "以公式化/v 新/a 的/u 猜想\n",
      "以及/vn 从/p 选定/v 的/u 公理/n 及/c 定义/n 出发\n",
      "严谨/a 地/u 推导/v 出/v 一些/m 定理\n",
      "对数学/n 基本概念/nz 的/u 完善\n"
     ]
    }
   ],
   "source": [
    "NER_temp=NERTrainer()\n",
    "NER=PerceptronNERecognizer(NER_temp.train(PKU199801_TRAIN,NER_MODEL).getModel())\n",
    "print('NER')\n",
    "ner_any=train_and_test(NER)"
   ]
  },
  {
   "cell_type": "code",
   "execution_count": null,
   "metadata": {
    "pycharm": {
     "name": "#%%\n"
    }
   },
   "outputs": [],
   "source": []
  }
 ],
 "metadata": {
  "kernelspec": {
   "display_name": "py36",
   "language": "python",
   "name": "py36"
  },
  "language_info": {
   "codemirror_mode": {
    "name": "ipython",
    "version": 3
   },
   "file_extension": ".py",
   "mimetype": "text/x-python",
   "name": "python",
   "nbconvert_exporter": "python",
   "pygments_lexer": "ipython3",
   "version": "3.6.13"
  }
 },
 "nbformat": 4,
 "nbformat_minor": 2
}
